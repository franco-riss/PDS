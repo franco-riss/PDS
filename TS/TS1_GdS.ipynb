{
 "cells": [
  {
   "cell_type": "markdown",
   "id": "f5f9c6c5-345c-476f-b142-3719b96ede4b",
   "metadata": {},
   "source": [
    "# Generador de señales\n",
    "\n",
    "## Franco Rissotto"
   ]
  },
  {
   "cell_type": "markdown",
   "id": "a5943d3d-7e6f-4681-9b3b-2bbaa12c3c87",
   "metadata": {},
   "source": [
    "### Importación de modulos"
   ]
  },
  {
   "cell_type": "code",
   "execution_count": null,
   "id": "daaf6f6c-56d7-4bb6-b6b8-2e6b25bf23c5",
   "metadata": {},
   "outputs": [],
   "source": [
    "import numpy as np\n",
    "import matplotlib.pyplot as plt\n",
    "import scipy.signal as sig"
   ]
  },
  {
   "cell_type": "markdown",
   "id": "3e2b63e2-54ef-4911-8760-fcc11b4940a3",
   "metadata": {},
   "source": [
    "### Declaración de funciones"
   ]
  },
  {
   "cell_type": "code",
   "execution_count": null,
   "id": "51a9bf9e-1d44-484e-aa5d-60546f873074",
   "metadata": {},
   "outputs": [],
   "source": [
    "# Funcion senoidal\n",
    "#\n",
    "# Tiene tres parametros obligatorios: la frecuencia de sampleo, el numero de \n",
    "# muestras, y la frecuencia del seno. Retorna el vector temporal y los valores \n",
    "# del seno.\n",
    "def mi_funcion_sen(fs, nn, ff, vmax = 1, dc = 0, ph = 0):\n",
    "\n",
    "    ts = 1/fs # Tiempo de muestreo (s)\n",
    "    t_simul = nn*ts # Tiempo de simulacion (s)\n",
    "\n",
    "    # Vector de tiempo\n",
    "    tt = np.arange(start = 0, stop = t_simul, step = ts)\n",
    "\n",
    "    # Calculo de la senoidal, fase en radianes\n",
    "    xx = vmax*np.sin(2*np.pi*ff*tt + ph) + dc\n",
    "    \n",
    "    return tt, xx\n",
    "\n",
    "\n",
    "# Funcion cuadrada\n",
    "#\n",
    "# Tiene tres parametros obligatorios: la frecuencia de sampleo, el numero de \n",
    "# muestras, y la frecuencia de la señal. Retorna el vector temporal y los \n",
    "# valores de amplitud.\n",
    "def mi_funcion_cuadrada(fs, nn, ff, vmax = 1, offset = 0, dc = 50, ph = 0):\n",
    "\n",
    "    ts = 1/fs # Tiempo de muestreo (s)\n",
    "    t_simul = nn*ts # Tiempo de simulacion (s)\n",
    "\n",
    "    # Vector de tiempo\n",
    "    tt = np.arange(start = 0, stop = t_simul, step = ts)\n",
    "    \n",
    "    dc = dc/100 # Ciclo de trabajo no porcentual\n",
    "    ph = (fs/ff) * ph/(2*np.pi) # Fase en muestras, a partir de radianes\n",
    "    \n",
    "    xx = vmax*np.roll(sig.square(2*np.pi*ff*tt, duty = dc), int(ph)) + offset\n",
    "\n",
    "    return tt, xx"
   ]
  },
  {
   "cell_type": "markdown",
   "id": "d766b03d-9256-4c0c-889f-965c733ef26b",
   "metadata": {},
   "source": [
    "### Ejemplo de uso"
   ]
  },
  {
   "cell_type": "code",
   "execution_count": null,
   "id": "6fc62b14-b2ec-4fdb-955b-0c71aa91a7b1",
   "metadata": {},
   "outputs": [],
   "source": [
    "fs = 100  # Frecuencia de muestreo (Hz)\n",
    "N = 200   # Cantidad de muestras\n",
    "\n",
    "tt1, xx1 = mi_funcion_sen(vmax = 1, dc = 0, ff = 1, ph = 0, nn = N, fs = fs)\n",
    "\n",
    "tt2, xx2 = mi_funcion_cuadrada(vmax = 0.5, offset = 0.5, ff = 1, dc = 30, ph = np.pi, nn = N, fs = fs)"
   ]
  },
  {
   "cell_type": "markdown",
   "id": "d326c182-c1be-4439-901d-e3f0603a15fb",
   "metadata": {},
   "source": [
    "### Visualización"
   ]
  },
  {
   "cell_type": "code",
   "execution_count": null,
   "id": "66b38197-434e-4bcf-b119-deda35a79234",
   "metadata": {},
   "outputs": [],
   "source": [
    "fig, (ax1, ax2) = plt.subplots(2)\n",
    "\n",
    "ax1.plot(tt1, xx1)\n",
    "ax1.set(title= 'Señal Senoidal', xlabel='tiempo [segundos]', ylabel='Amplitud [V]')\n",
    "ax1.grid()\n",
    "ax1.label_outer()\n",
    "\n",
    "ax2.plot(tt2, xx2)\n",
    "ax2.set(title= 'Señal Rectangular', xlabel='tiempo [segundos]', ylabel='Amplitud [V]')\n",
    "ax2.grid()"
   ]
  },
  {
   "cell_type": "code",
   "execution_count": null,
   "id": "754ec23e-0fb7-478d-8543-2bec1043fca3",
   "metadata": {},
   "outputs": [],
   "source": []
  }
 ],
 "metadata": {
  "kernelspec": {
   "display_name": "Python 3 (ipykernel)",
   "language": "python",
   "name": "python3"
  },
  "language_info": {
   "codemirror_mode": {
    "name": "ipython",
    "version": 3
   },
   "file_extension": ".py",
   "mimetype": "text/x-python",
   "name": "python",
   "nbconvert_exporter": "python",
   "pygments_lexer": "ipython3",
   "version": "3.10.12"
  }
 },
 "nbformat": 4,
 "nbformat_minor": 5
}
